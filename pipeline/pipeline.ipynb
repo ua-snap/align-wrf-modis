{
 "cells": [
  {
   "cell_type": "markdown",
   "metadata": {},
   "source": [
    "# Align WRF TSK with MODIS LST\n",
    "\n",
    "This pipeline is for producing \"aligned\" dataset of WRF data (TSK variable) produced for the SERDP Fish and Fire project with 8-day MODIS LST data. Both datasets are re-projected to EPSG:3338 and aligned to the same grid (i.e. overlapping grid cells) and the maximum WRF TSK is re-sampled to match the same 8-day time periods used in the MODIS data. Future projections are resampled to the 8-day time periods estimated from assuming regular continuation of the observed MODIS 8-day scheme."
   ]
  },
  {
   "cell_type": "markdown",
   "metadata": {},
   "source": [
    "## 0 - Setup\n",
    "\n",
    "Execute this setup cell before running any of the other steps in the notebook:"
   ]
  },
  {
   "cell_type": "code",
   "execution_count": 1,
   "metadata": {},
   "outputs": [],
   "source": [
    "import os\n",
    "from pathlib import Path\n",
    "\n",
    "# paths provided for SNAP internal use\n",
    "wrf_dir = Path(os.getenv(\"WRF_DIR\") or \"/import/SNAP/pbieniek/SERDP/hourly\")\n",
    "modis_dir = Path(os.getenv(\"MODIS_DIR\") or f\"{os.getenv('CENTER1')}/data/MODIS\")\n",
    "scratch_dir = Path(os.getenv(\"SCRATCH_DIR\") or f\"{os.getenv('CENTER1')}/data/modis_lst-scratch\")\n",
    "output_dir = Path(os.getenv(\"OUTPUT_DIR\") or f\"{os.getenv('HOME')}/projects/SERDP-fish-fire/data\") "
   ]
  },
  {
   "cell_type": "markdown",
   "metadata": {},
   "source": [
    "## Split netCDFs into GeoTIFFs\n",
    "\n",
    "This step is for splitting the netCDFs into GeoTIFFs, as this is the desired format for our project partners."
   ]
  },
  {
   "cell_type": "code",
   "execution_count": 2,
   "metadata": {},
   "outputs": [],
   "source": [
    "# setup cell\n",
    "import numpy as np\n",
    "import pandas as pd\n",
    "import xarray as xr\n",
    "import rasterio as rio\n",
    "from rasterio.crs import CRS\n",
    "\n",
    "\n",
    "modis_gtiff_dir = output_dir.joinpath(\"aligned-WRF-MODIS/MODIS/geotiff\")\n",
    "modis_gtiff_dir.mkdir(exist_ok=True)\n",
    "wrf_gtiff_dir = output_dir.joinpath(\"aligned-WRF-MODIS/WRF/geotiff\")\n",
    "wrf_gtiff_dir.mkdir(exist_ok=True)"
   ]
  },
  {
   "cell_type": "markdown",
   "metadata": {},
   "source": [
    "Define some functions to read a netCDF and output each slice as a geotiff to some directory:"
   ]
  },
  {
   "cell_type": "code",
   "execution_count": 3,
   "metadata": {},
   "outputs": [],
   "source": [
    "def write_gtiff(arr, dst_fp, meta):\n",
    "    with rio.open(dst_fp, \"w\", **meta) as dst:\n",
    "        dst.write(arr, 1)\n",
    "    return None\n",
    "\n",
    "\n",
    "def netcdf_to_geotiff(nc_fp, gtiff_dir, out_base_fn):\n",
    "    with xr.open_dataset(nc_fp) as ds:\n",
    "        varname = [\n",
    "            varname for varname in list(ds.variables) \n",
    "            if varname in [\"lst\", \"tsk\"]\n",
    "        ][0]\n",
    "        for date in ds.date.values:\n",
    "            arr = ds[varname].sel(date=date).values\n",
    "            pd_dt = pd.to_datetime(str(date)) \n",
    "            ymd = pd_dt.strftime('%Y%m%d')\n",
    "            dst_fp = gtiff_dir.joinpath(out_base_fn.format(ymd))\n",
    "            write_gtiff(arr, dst_fp, meta)\n",
    "\n",
    "    print(f\"{nc_fp} split into GeoTIFFs, written to {gtiff_dir}\")\n",
    "    return None"
   ]
  },
  {
   "cell_type": "markdown",
   "metadata": {},
   "source": [
    "Setup the necessary metadata for writing the GeoTIFFs, it will be the same for all files:"
   ]
  },
  {
   "cell_type": "code",
   "execution_count": 4,
   "metadata": {},
   "outputs": [],
   "source": [
    "with xr.open_dataset(output_dir.joinpath(\"aligned-WRF-MODIS/MODIS/lst_MOD11A2_aligned.nc\")) as ds:\n",
    "    height, width = [ds[dim].values.shape[0] for dim in [\"yc\", \"xc\"]]\n",
    "\n",
    "# determine affine transform\n",
    "# pixel resolution in epsg:3338\n",
    "r = ds.xc.values[1] - ds.xc.values[0]\n",
    "# divide by two for adding to get bounds\n",
    "r2 = r / 2\n",
    "transform = rio.transform.from_bounds(\n",
    "    ds.xc.values[0] - r2,\n",
    "    ds.yc.values[-1] - r2,\n",
    "    ds.xc.values[-1] + r2,\n",
    "    ds.yc.values[0] + r2,\n",
    "    width,\n",
    "    height,\n",
    ")\n",
    "\n",
    "meta = {\n",
    "    \"driver\": \"GTiff\",\n",
    "    \"crs\": CRS.from_epsg(3338),\n",
    "    \"compress\": \"lzw\",\n",
    "    \"dtype\": rio.float32,\n",
    "    \"count\": 1,\n",
    "    \"height\": height,\n",
    "    \"width\": width,\n",
    "    \"transform\": transform,\n",
    "    \"nodata\": np.nan,\n",
    "}\n",
    "\n",
    "# template GeoTIFF filename\n",
    "out_fn_template = \"{}_{}_{}_{}_aligned.tif\""
   ]
  },
  {
   "cell_type": "markdown",
   "metadata": {},
   "source": [
    "Iterate over MODIS files and break into GeoTIFFs:"
   ]
  },
  {
   "cell_type": "code",
   "execution_count": 8,
   "metadata": {},
   "outputs": [
    {
     "name": "stdout",
     "output_type": "stream",
     "text": [
      "/home/kmredilla/projects/SERDP-fish-fire/data/aligned-WRF-MODIS/MODIS/lst_MOD11A2_aligned.nc split into GeoTIFFs, written to /home/kmredilla/projects/SERDP-fish-fire/data/aligned-WRF-MODIS/MODIS/geotiff\n",
      "/home/kmredilla/projects/SERDP-fish-fire/data/aligned-WRF-MODIS/MODIS/lst_MYD11A2_aligned.nc split into GeoTIFFs, written to /home/kmredilla/projects/SERDP-fish-fire/data/aligned-WRF-MODIS/MODIS/geotiff\n"
     ]
    }
   ],
   "source": [
    "modis_sensors = [\"MOD11A2\", \"MYD11A2\"]\n",
    "\n",
    "for sensor in modis_sensors:\n",
    "    nc_fp = output_dir.joinpath(f\"aligned-WRF-MODIS/MODIS/lst_{sensor}_aligned.nc\")\n",
    "    out_base_fn = out_fn_template.format(\"modis\", \"lst\", sensor.lower(), \"{}\")\n",
    "    netcdf_to_geotiff(nc_fp, modis_gtiff_dir, out_base_fn)"
   ]
  },
  {
   "cell_type": "markdown",
   "metadata": {},
   "source": [
    "And do the same for the WRF files:"
   ]
  },
  {
   "cell_type": "code",
   "execution_count": 5,
   "metadata": {
    "tags": []
   },
   "outputs": [
    {
     "name": "stdout",
     "output_type": "stream",
     "text": [
      "/home/kmredilla/projects/SERDP-fish-fire/data/aligned-WRF-MODIS/WRF/tsk_max_era_2000-2018_aligned.nc split into GeoTIFFs, written to /home/kmredilla/projects/SERDP-fish-fire/data/aligned-WRF-MODIS/WRF/geotiff\n",
      "/home/kmredilla/projects/SERDP-fish-fire/data/aligned-WRF-MODIS/WRF/tsk_max_gfdl_2008-2017_aligned.nc split into GeoTIFFs, written to /home/kmredilla/projects/SERDP-fish-fire/data/aligned-WRF-MODIS/WRF/geotiff\n",
      "/home/kmredilla/projects/SERDP-fish-fire/data/aligned-WRF-MODIS/WRF/tsk_max_gfdl_2038-2047_aligned.nc split into GeoTIFFs, written to /home/kmredilla/projects/SERDP-fish-fire/data/aligned-WRF-MODIS/WRF/geotiff\n",
      "/home/kmredilla/projects/SERDP-fish-fire/data/aligned-WRF-MODIS/WRF/tsk_max_gfdl_2068-2077_aligned.nc split into GeoTIFFs, written to /home/kmredilla/projects/SERDP-fish-fire/data/aligned-WRF-MODIS/WRF/geotiff\n",
      "/home/kmredilla/projects/SERDP-fish-fire/data/aligned-WRF-MODIS/WRF/tsk_max_ccsm_2008-2017_aligned.nc split into GeoTIFFs, written to /home/kmredilla/projects/SERDP-fish-fire/data/aligned-WRF-MODIS/WRF/geotiff\n",
      "/home/kmredilla/projects/SERDP-fish-fire/data/aligned-WRF-MODIS/WRF/tsk_max_ccsm_2038-2047_aligned.nc split into GeoTIFFs, written to /home/kmredilla/projects/SERDP-fish-fire/data/aligned-WRF-MODIS/WRF/geotiff\n",
      "/home/kmredilla/projects/SERDP-fish-fire/data/aligned-WRF-MODIS/WRF/tsk_max_ccsm_2068-2077_aligned.nc split into GeoTIFFs, written to /home/kmredilla/projects/SERDP-fish-fire/data/aligned-WRF-MODIS/WRF/geotiff\n"
     ]
    }
   ],
   "source": [
    "wrf_models = [\"era\", \"gfdl\", \"ccsm\"]\n",
    "\n",
    "for model in wrf_models:\n",
    "    for nc_fp in output_dir.glob(f\"aligned-WRF-MODIS/WRF/tsk_max_{model}_*_aligned.nc\"):\n",
    "        out_base_fn = out_fn_template.format(\"wrf\", \"max_tsk\", model, \"{}\")\n",
    "        netcdf_to_geotiff(nc_fp, wrf_gtiff_dir, out_base_fn)"
   ]
  },
  {
   "cell_type": "code",
   "execution_count": null,
   "metadata": {},
   "outputs": [],
   "source": []
  }
 ],
 "metadata": {
  "kernelspec": {
   "display_name": "Python 3 (ipykernel)",
   "language": "python",
   "name": "python3"
  },
  "language_info": {
   "codemirror_mode": {
    "name": "ipython",
    "version": 3
   },
   "file_extension": ".py",
   "mimetype": "text/x-python",
   "name": "python",
   "nbconvert_exporter": "python",
   "pygments_lexer": "ipython3",
   "version": "3.8.3"
  }
 },
 "nbformat": 4,
 "nbformat_minor": 4
}
