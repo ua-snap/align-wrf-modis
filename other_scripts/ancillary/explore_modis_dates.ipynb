{
 "cells": [
  {
   "cell_type": "markdown",
   "metadata": {},
   "source": [
    "# Explore MODIS dates\n",
    "\n",
    "This notebook explores the dates used for the MODIS periods. A key finding is that not all dates are 8 days apart - the 8-day periods do not cross over years, and so a new period begins no the first of every year. This needs to be considered for creation of the future 8-day periods for aggregating WRF data."
   ]
  },
  {
   "cell_type": "code",
   "execution_count": 1,
   "metadata": {},
   "outputs": [],
   "source": [
    "import datetime, glob, os\n",
    "import pandas as pd\n",
    "import numpy as np\n",
    "\n",
    "mod_dir = os.getenv(\"MODIS_DIR\")\n",
    "fps = sorted(glob.glob(os.path.join(mod_dir, \"MOD11A2\", \"*h11*.hdf\")))\n",
    "jdates = [fp.split(\".\")[-5][1:] for fp in fps]\n",
    "modis_dates = [\n",
    "    datetime.datetime.strptime(jdate, \"%Y%j\").strftime('%Y-%m-%d') \n",
    "    for jdate in jdates\n",
    "]"
   ]
  },
  {
   "cell_type": "markdown",
   "metadata": {},
   "source": [
    "Show the unique numbers of differences between starting dates:"
   ]
  },
  {
   "cell_type": "code",
   "execution_count": 2,
   "metadata": {},
   "outputs": [
    {
     "data": {
      "text/plain": [
       "array([ 5,  6,  8, 16])"
      ]
     },
     "execution_count": 2,
     "metadata": {},
     "output_type": "execute_result"
    }
   ],
   "source": [
    "mod_diffs = (pd.to_datetime(modis_dates[1:]) - pd.to_datetime(modis_dates[:-1])).days\n",
    "np.unique(mod_diffs)"
   ]
  },
  {
   "cell_type": "markdown",
   "metadata": {},
   "source": [
    "Some indices where differences are 5 and 6 days, respectively:"
   ]
  },
  {
   "cell_type": "code",
   "execution_count": 3,
   "metadata": {},
   "outputs": [
    {
     "name": "stdout",
     "output_type": "stream",
     "text": [
      "(array([ 84, 130, 176, 268, 314, 360, 452, 498, 544, 636, 682, 728, 820,\n",
      "       866, 912]),)\n",
      "(array([ 39, 222, 406, 590, 774]),)\n"
     ]
    }
   ],
   "source": [
    "print(np.where(mod_diffs == 5))\n",
    "print(np.where(mod_diffs == 6))"
   ]
  },
  {
   "cell_type": "markdown",
   "metadata": {},
   "source": [
    "Examine some starting dates for periods having fewer than 8 days:"
   ]
  },
  {
   "cell_type": "code",
   "execution_count": 4,
   "metadata": {},
   "outputs": [
    {
     "name": "stdout",
     "output_type": "stream",
     "text": [
      "['2001-12-27', '2002-01-01']\n",
      "['2002-12-27', '2003-01-01']\n",
      "['2003-12-27', '2004-01-01']\n",
      "['2000-12-26', '2001-01-01']\n",
      "['2004-12-26', '2005-01-01']\n",
      "['2008-12-26', '2009-01-01']\n"
     ]
    }
   ],
   "source": [
    "print(modis_dates[84:86])\n",
    "print(modis_dates[130:132])\n",
    "print(modis_dates[176:178])\n",
    "print(modis_dates[39:41])\n",
    "print(modis_dates[222:224])\n",
    "print(modis_dates[406:408])"
   ]
  },
  {
   "cell_type": "markdown",
   "metadata": {},
   "source": [
    "So, [this page](https://ladsweb.modaps.eosdis.nasa.gov/missions-and-measurements/products/MOD11B2/), although for MOD11B2, suggests that a new 8-day period begins on the first of every year. "
   ]
  },
  {
   "cell_type": "code",
   "execution_count": null,
   "metadata": {},
   "outputs": [],
   "source": []
  }
 ],
 "metadata": {
  "kernelspec": {
   "display_name": "modis_lst",
   "language": "python",
   "name": "modis_lst"
  },
  "language_info": {
   "codemirror_mode": {
    "name": "ipython",
    "version": 3
   },
   "file_extension": ".py",
   "mimetype": "text/x-python",
   "name": "python",
   "nbconvert_exporter": "python",
   "pygments_lexer": "ipython3",
   "version": "3.8.3"
  }
 },
 "nbformat": 4,
 "nbformat_minor": 2
}
